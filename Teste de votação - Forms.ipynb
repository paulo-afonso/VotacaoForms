{
 "cells": [
  {
   "cell_type": "code",
   "execution_count": 2,
   "id": "6bf767de",
   "metadata": {},
   "outputs": [
    {
     "name": "stdout",
     "output_type": "stream",
     "text": [
      "2\n",
      "3\n"
     ]
    }
   ],
   "source": [
    "from selenium import webdriver\n",
    "import time\n",
    "import random\n",
    "from tkinter import *\n",
    "\n",
    "root = Tk()\n",
    "\n",
    "e = Entry(root, width = 50)\n",
    "e.pack()\n",
    "e.insert(0, 'Digite seu nome aqui')\n",
    "\n",
    "\n",
    "f = Entry(root, width = 50)\n",
    "f.pack()\n",
    "f.insert(0, 'Digite seu email aqui')\n",
    "\n",
    "g = Entry(root, width = 35)\n",
    "g.pack()\n",
    "g.insert(0, 'Quantas vezes quer votar?')\n",
    "\n",
    "def votacao():\n",
    "    navegador = webdriver.Chrome('chromedriver.exe')\n",
    "    navegador.get(r'https://docs.google.com/forms/d/e/1FAIpQLSdropCPRafsQZ8YbwCGHJR3H15kXnQB2bMk4JpMl_GJQ8owLQ/viewform?usp=sf_link')\n",
    "\n",
    "    for seq in range(int(g.get())):\n",
    "        tempo = random.randrange(2, 4)\n",
    "        \n",
    "        navegador.find_element_by_xpath(r'//*[@id=\"mG61Hd\"]/div[2]/div/div[2]/div[1]/div/div/div[2]/div/div[1]/div/div[1]/input').send_keys(e.get())\n",
    "        \n",
    "        \n",
    "        navegador.find_element_by_xpath(r'//*[@id=\"mG61Hd\"]/div[2]/div/div[2]/div[2]/div/div/div[2]/div/div[1]/div/div[1]/input').send_keys(f.get())\n",
    "        time.sleep(tempo)\n",
    "        \n",
    "        navegador.find_element_by_xpath(r'//*[@id=\"mG61Hd\"]/div[2]/div/div[2]/div[3]/div/div/div[2]/div[1]/div[3]/label/div/div[2]/div/span').click()\n",
    "        time.sleep(1)\n",
    "        \n",
    "        time.sleep(tempo)\n",
    "        \n",
    "        navegador.find_element_by_xpath(r'//*[@id=\"mG61Hd\"]/div[2]/div/div[3]/div[1]/div[1]/div/span/span').click()\n",
    "\n",
    "        navegador.find_element_by_xpath(r'/html/body/div[1]/div[2]/div[1]/div/div[4]/a').click()\n",
    "\n",
    "        \n",
    "        print(tempo)\n",
    "\n",
    "myButton = Button(root, text='Votar !', command = votacao)\n",
    "myButton.pack()\n",
    "\n",
    "root.mainloop()\n",
    "\n"
   ]
  }
 ],
 "metadata": {
  "kernelspec": {
   "display_name": "Python 3",
   "language": "python",
   "name": "python3"
  },
  "language_info": {
   "codemirror_mode": {
    "name": "ipython",
    "version": 3
   },
   "file_extension": ".py",
   "mimetype": "text/x-python",
   "name": "python",
   "nbconvert_exporter": "python",
   "pygments_lexer": "ipython3",
   "version": "3.8.8"
  }
 },
 "nbformat": 4,
 "nbformat_minor": 5
}
